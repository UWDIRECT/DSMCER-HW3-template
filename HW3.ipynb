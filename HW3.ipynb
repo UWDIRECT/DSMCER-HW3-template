{
 "cells": [
  {
   "cell_type": "markdown",
   "metadata": {},
   "source": [
    "## DSMCER HW 3\n",
    "\n",
    "###  Part 1 Descriptive Statistics\n",
    "\n",
    "#### 1 a) \n",
    "Define three numpy arrays of random numbers with N=1000 points as following:\n",
    "   * array 1 uniform random numbers between 0.5 and 12.5\n",
    "   * array 2 gaussian distributed random numbers - the mean of the distribution is $\\mu$=6.76 and the standard deviation is 5\n",
    "   * array 3 gamma distributed random numbers - here $k$=2 and $\\theta=5$\n",
    "\n",
    "#### 1 b) \n",
    "Create a row of two plots. \n",
    "   * Plot 1 - show the three **empirical distributions** of the data. \n",
    "   * Plot 2 - show the three computed **CDF distributions** of the data. \n",
    "Make sure the plot are clear and properly labeled.\n",
    "\n",
    "#### 1 c) \n",
    "Go get a coffee or tea - whatever you prefer - come back and rerun your notebook - did your plots change? If so why? Is there a way to fix the results?"
   ]
  },
  {
   "cell_type": "markdown",
   "metadata": {},
   "source": [
    "### Part 2 Error bars and confidence interval\n",
    "\n",
    "Data was gathered for the concentration of a compound, A as a function of time $C_A(t)$. Two samples of the dataset are provided in files `CA_1.csv` and `CA_2.csv`\n",
    "\n",
    "#### 2 a) \n",
    "Load the `CA_1.csv` and the `CA_2.csv` files. \n",
    "Create two plots in a row: \n",
    "* Plot 1 - plot the first 10 values of the CA_1 and CA_2 concentrations as a function of time and the error bars computed using the **standard deviation**. \n",
    "* Plot 2 - plot the first 10 values of the CA_1 and CA_2 concentrations as a function of time and the error bars computed using the **standard error of the mean**. *Hint*: look at the `pyplot.errorbar()` function. Make sure to clearly label your axes and data.\n",
    "\n",
    "#### 2 b)\n",
    "Estimate the **confidence interval** within which you believe the mean concentration of A is found for each sample. Use a confidence level of 90%. Are these intervals different? If so why or why not?\n",
    "   "
   ]
  },
  {
   "cell_type": "markdown",
   "metadata": {},
   "source": [
    "### Part 3 Hypothesis testing \n",
    "\n",
    "You are given three datasets which provide you with the concentration of chemical species A, B and C in a beaker measured several times 1) at UW on a monday morning at 9am - file `C_UW_9am.csv` ; 2) at UW on the same monday morning at noon - file `C_UW_12pm.csv` ; 3) at the University of Milan on the same monday at 6pm (note, there is a 9 hour forward time difference) `C_Milan_6pm.csv`. \n",
    "\n",
    "#### 3.1 Single sample test\n",
    "Choosing from this data, formulate a single sample statistical hypothesis. From past data you are told that your average concentration of $\\bar{C}_A=$ 0.8 mol/L, $\\bar{C}_B=$0.98 mol/L  and $\\bar{C}_C=$0.2 mol/L.\n",
    "* clearly define your choice of dataset and justify your choice\n",
    "* clearly define your null and alternative hypotheses\n",
    "* define your significance level\n",
    "* carry out a test of your alternative hypothesis\n",
    "\n",
    "#### 3.2 Two sample paired test\n",
    "Choosing from this data, formulate a paired two sample statistical hypothesis\n",
    "* clearly define your choice of dataset and justify your choice\n",
    "* clearly define your null and alternative hypotheses\n",
    "* define your significance level\n",
    "* carry out a test of your alternative hypothesis "
   ]
  },
  {
   "cell_type": "code",
   "execution_count": null,
   "metadata": {},
   "outputs": [],
   "source": []
  },
  {
   "cell_type": "markdown",
   "metadata": {},
   "source": []
  }
 ],
 "metadata": {
  "anaconda-cloud": {},
  "kernelspec": {
   "display_name": "Python (tunnel)",
   "language": "python",
   "name": "python3"
  },
  "language_info": {
   "codemirror_mode": {
    "name": "ipython",
    "version": 3
   },
   "file_extension": ".py",
   "mimetype": "text/x-python",
   "name": "python",
   "nbconvert_exporter": "python",
   "pygments_lexer": "ipython3",
   "version": "3.7.7"
  }
 },
 "nbformat": 4,
 "nbformat_minor": 1
}
