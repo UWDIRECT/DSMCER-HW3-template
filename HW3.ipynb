{
 "cells": [
  {
   "cell_type": "markdown",
   "metadata": {},
   "source": [
    "# DSMCER HW 3\n",
    "\n",
    "The goal of this homework is to solidify your understanding of data preprocessing to set yourself up for a supervised machine learning application __that effectively addresses a goal__.\n",
    "\n",
    "## Note the following points carefully:\n",
    "\n",
    "- Pay particular attention to the goal stated for the problems\n",
    "\n",
    "- Any plots should be the highest quality possible and, in your judgement, ready for inclusion in a formal report or publication. This includes labeling, font sizes, etc.\n",
    "\n",
    "- While we encourage you to chat with eachother and work together, you should not be copying code.\n",
    "\n",
    "- Remember one of the biggest advantages of the python data stack - someone has probably written code for what you need to do. If you find yourself writing lines and lines of complex code here there is probably a better way, eg. a function written in numpy, scipy, pandas, seaborn etc."
   ]
  },
  {
   "cell_type": "markdown",
   "metadata": {},
   "source": [
    "***"
   ]
  },
  {
   "cell_type": "markdown",
   "metadata": {},
   "source": [
    "### Instructions for both problems:\n",
    "\n",
    "0a. Load the DES data from the SML intro notebook, the http link is [here](https://raw.githubusercontent.com/UWDIRECT/UWDIRECT.github.io/master/datasets/Politi_DES/politi_des_reformatted.csv).\n",
    "\n",
    "0b. You are going to be considering the `potential_window` column as your target for machine learning. It is continuous, so it is a regression task. __Use only the examples within the data that were not solid__, such that the target could be measured. Create a quality plot showing the empirical distribution of this value.\n",
    "\n",
    "#### For each of two distinct goals, complete the following:\n",
    "\n",
    "1. Conduct an appropriate split of the data such that the test set will honestly evaluate your goal.\n",
    "\n",
    "2. Encode the features within your dataset using an approproate choice given your goal.\n",
    "\n",
    "3. Apply an appropriate method of data standardization, given the features that you chose.\n",
    "\n",
    "4. Create a statistical test to confirm __for at least two features__ that the training and testing distributions for that feature are close. At least one of your tests should be nonparametric. *Hint: the form of your feature will effect what test you can do - binary features  and continuous features will require different tests regardless of whether you are doing bootstrapping or a parametric test*\n",
    "\n",
    "5. Train and test a K-Nearest Neigbor Regressor, state the R2 score of the model. Is the model doing better than guessing the mean?\n",
    "\n",
    "6. Write a sentences or two stating the choices you made for preprocessing and why."
   ]
  },
  {
   "cell_type": "markdown",
   "metadata": {},
   "source": [
    "***"
   ]
  },
  {
   "cell_type": "markdown",
   "metadata": {},
   "source": [
    "### Problem 1 - \n",
    "\n",
    "__Goal__: Create an interpolator of potential window for new mass ratio of HBD and QAS with the same HBD and QAS species we have already tried"
   ]
  },
  {
   "cell_type": "code",
   "execution_count": null,
   "metadata": {},
   "outputs": [],
   "source": []
  },
  {
   "cell_type": "markdown",
   "metadata": {},
   "source": [
    "***"
   ]
  },
  {
   "cell_type": "markdown",
   "metadata": {},
   "source": [
    "### Problem 2 - \n",
    "\n",
    "__Goal__: Create a predictor of potential window for new DES mixtures involving QAS species never tried before"
   ]
  },
  {
   "cell_type": "code",
   "execution_count": null,
   "metadata": {},
   "outputs": [],
   "source": []
  }
 ],
 "metadata": {
  "anaconda-cloud": {},
  "kernelspec": {
   "display_name": "Python 3 (ipykernel)",
   "language": "python",
   "name": "python3"
  },
  "language_info": {
   "codemirror_mode": {
    "name": "ipython",
    "version": 3
   },
   "file_extension": ".py",
   "mimetype": "text/x-python",
   "name": "python",
   "nbconvert_exporter": "python",
   "pygments_lexer": "ipython3",
   "version": "3.9.13"
  }
 },
 "nbformat": 4,
 "nbformat_minor": 4
}
